{
 "cells": [
  {
   "cell_type": "code",
   "execution_count": 2,
   "metadata": {},
   "outputs": [
    {
     "data": {
      "text/html": [
       "<div>\n",
       "<style scoped>\n",
       "    .dataframe tbody tr th:only-of-type {\n",
       "        vertical-align: middle;\n",
       "    }\n",
       "\n",
       "    .dataframe tbody tr th {\n",
       "        vertical-align: top;\n",
       "    }\n",
       "\n",
       "    .dataframe thead th {\n",
       "        text-align: right;\n",
       "    }\n",
       "</style>\n",
       "<table border=\"1\" class=\"dataframe\">\n",
       "  <thead>\n",
       "    <tr style=\"text-align: right;\">\n",
       "      <th></th>\n",
       "      <th>index</th>\n",
       "      <th>0</th>\n",
       "      <th>1</th>\n",
       "      <th>2</th>\n",
       "      <th>3</th>\n",
       "      <th>4</th>\n",
       "      <th>5</th>\n",
       "      <th>6</th>\n",
       "      <th>7</th>\n",
       "      <th>8</th>\n",
       "      <th>...</th>\n",
       "      <th>15589</th>\n",
       "      <th>15590</th>\n",
       "      <th>15591</th>\n",
       "      <th>15592</th>\n",
       "      <th>15593</th>\n",
       "      <th>15594</th>\n",
       "      <th>15595</th>\n",
       "      <th>15596</th>\n",
       "      <th>15597</th>\n",
       "      <th>15598</th>\n",
       "    </tr>\n",
       "  </thead>\n",
       "  <tbody>\n",
       "    <tr>\n",
       "      <th>0</th>\n",
       "      <td>-0.799</td>\n",
       "      <td>-0.7980</td>\n",
       "      <td>-0.79700</td>\n",
       "      <td>-0.79600</td>\n",
       "      <td>-0.79500</td>\n",
       "      <td>-0.79400</td>\n",
       "      <td>-0.79300</td>\n",
       "      <td>-0.79200</td>\n",
       "      <td>-0.79100</td>\n",
       "      <td>-0.79000</td>\n",
       "      <td>...</td>\n",
       "      <td>-0.7910</td>\n",
       "      <td>-0.79200</td>\n",
       "      <td>-0.79300</td>\n",
       "      <td>-0.79400</td>\n",
       "      <td>-0.79500</td>\n",
       "      <td>-0.79600</td>\n",
       "      <td>-0.79700</td>\n",
       "      <td>-0.79800</td>\n",
       "      <td>-0.79900</td>\n",
       "      <td>-0.80000</td>\n",
       "    </tr>\n",
       "    <tr>\n",
       "      <th>1</th>\n",
       "      <td>-179.0459</td>\n",
       "      <td>-118.2419</td>\n",
       "      <td>-92.25166</td>\n",
       "      <td>-77.40723</td>\n",
       "      <td>-67.97336</td>\n",
       "      <td>-61.05739</td>\n",
       "      <td>-55.70787</td>\n",
       "      <td>-51.52402</td>\n",
       "      <td>-47.97503</td>\n",
       "      <td>-45.00998</td>\n",
       "      <td>...</td>\n",
       "      <td>-19.6668</td>\n",
       "      <td>-19.95396</td>\n",
       "      <td>-19.79239</td>\n",
       "      <td>-19.45665</td>\n",
       "      <td>-19.18606</td>\n",
       "      <td>-19.63311</td>\n",
       "      <td>-19.62597</td>\n",
       "      <td>-19.64387</td>\n",
       "      <td>-19.48003</td>\n",
       "      <td>-19.68538</td>\n",
       "    </tr>\n",
       "  </tbody>\n",
       "</table>\n",
       "<p>2 rows × 15600 columns</p>\n",
       "</div>"
      ],
      "text/plain": [
       "       index         0         1         2         3         4         5  \\\n",
       "0     -0.799   -0.7980  -0.79700  -0.79600  -0.79500  -0.79400  -0.79300   \n",
       "1  -179.0459 -118.2419 -92.25166 -77.40723 -67.97336 -61.05739 -55.70787   \n",
       "\n",
       "          6         7         8  ...    15589     15590     15591     15592  \\\n",
       "0  -0.79200  -0.79100  -0.79000  ...  -0.7910  -0.79200  -0.79300  -0.79400   \n",
       "1 -51.52402 -47.97503 -45.00998  ... -19.6668 -19.95396 -19.79239 -19.45665   \n",
       "\n",
       "      15593     15594     15595     15596     15597     15598  \n",
       "0  -0.79500  -0.79600  -0.79700  -0.79800  -0.79900  -0.80000  \n",
       "1 -19.18606 -19.63311 -19.62597 -19.64387 -19.48003 -19.68538  \n",
       "\n",
       "[2 rows x 15600 columns]"
      ]
     },
     "execution_count": 2,
     "metadata": {},
     "output_type": "execute_result"
    }
   ],
   "source": [
    "import pandas as pd\n",
    "import numpy as np\n",
    "\n",
    "df = pd.read_csv('/home/mikeyasnov/detecting_antibiotics/Pipeline/_current_voltage.csv').T.reset_index()\n",
    "df"
   ]
  },
  {
   "cell_type": "code",
   "execution_count": 10,
   "metadata": {},
   "outputs": [],
   "source": [
    "data = np.array(df.loc[1, :])"
   ]
  },
  {
   "cell_type": "code",
   "execution_count": 11,
   "metadata": {},
   "outputs": [],
   "source": [
    "data[0] = float(data[0])"
   ]
  },
  {
   "cell_type": "code",
   "execution_count": 13,
   "metadata": {},
   "outputs": [
    {
     "name": "stderr",
     "output_type": "stream",
     "text": [
      "/tmp/ipykernel_42372/3396421371.py:1: DeprecationWarning: `np.float` is a deprecated alias for the builtin `float`. To silence this warning, use `float` by itself. Doing this will not modify any behavior and is safe. If you specifically wanted the numpy scalar type, use `np.float64` here.\n",
      "Deprecated in NumPy 1.20; for more details and guidance: https://numpy.org/devdocs/release/1.20.0-notes.html#deprecations\n",
      "  data = np.array(data, dtype=np.float)\n"
     ]
    }
   ],
   "source": [
    "data = np.array(data, dtype=np.float)"
   ]
  },
  {
   "cell_type": "code",
   "execution_count": 14,
   "metadata": {},
   "outputs": [
    {
     "data": {
      "text/plain": [
       "array([-179.0459 , -118.2419 ,  -92.25166, ...,  -19.64387,  -19.48003,\n",
       "        -19.68538])"
      ]
     },
     "execution_count": 14,
     "metadata": {},
     "output_type": "execute_result"
    }
   ],
   "source": [
    "data"
   ]
  },
  {
   "cell_type": "code",
   "execution_count": null,
   "metadata": {},
   "outputs": [],
   "source": []
  }
 ],
 "metadata": {
  "kernelspec": {
   "display_name": "Python 3.10.6 64-bit",
   "language": "python",
   "name": "python3"
  },
  "language_info": {
   "codemirror_mode": {
    "name": "ipython",
    "version": 3
   },
   "file_extension": ".py",
   "mimetype": "text/x-python",
   "name": "python",
   "nbconvert_exporter": "python",
   "pygments_lexer": "ipython3",
   "version": "3.10.6"
  },
  "orig_nbformat": 4,
  "vscode": {
   "interpreter": {
    "hash": "916dbcbb3f70747c44a77c7bcd40155683ae19c65e1c03b4aa3499c5328201f1"
   }
  }
 },
 "nbformat": 4,
 "nbformat_minor": 2
}
